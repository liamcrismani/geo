{
 "cells": [
  {
   "cell_type": "code",
   "execution_count": null,
   "metadata": {},
   "outputs": [],
   "source": []
  },
  {
   "cell_type": "markdown",
   "metadata": {},
   "source": [
    "# GIS with Python and SQL\n",
    "\n",
    "### Session outputs\n",
    "- python libraries\n",
    "- conda env?\n",
    "- geospatial dbs\n",
    "- Zoho Analytics\n"
   ]
  },
  {
   "cell_type": "markdown",
   "metadata": {},
   "source": [
    "## Basic geometries  \n",
    "\n",
    "The [`shapely`](https://shapely.readthedocs.io/en/latest/#) package provides ways of representing geospatial vector data as Python objects.  \n",
    "\n",
    "- `Point`\n",
    "- `LineString`\n",
    "- `Polygon`\n",
    "\n",
    "Each of these have attributes and methods that can be used to perform spatial operations.\n",
    "\n",
    "### Points"
   ]
  },
  {
   "cell_type": "code",
   "execution_count": 1,
   "metadata": {},
   "outputs": [],
   "source": [
    "from shapely import Point, LineString, Polygon"
   ]
  },
  {
   "cell_type": "code",
   "execution_count": 2,
   "metadata": {},
   "outputs": [],
   "source": [
    "# Create a point object\n",
    "our_point: Point = Point(1, 2)\n",
    "\n",
    "# A point that's a bit more meaningful\n",
    "anfield: Point = Point()"
   ]
  },
  {
   "cell_type": "markdown",
   "metadata": {},
   "source": [
    "\n",
    "\n",
    "### LineStrings\n",
    "\n",
    "\n",
    "### Polygons"
   ]
  },
  {
   "cell_type": "markdown",
   "metadata": {},
   "source": [
    "## Basic Operations\n",
    "\n",
    "### Find the area of a polygon\n",
    "\n",
    "### Create a buffer around a Point, LineString, or Polygon\n",
    "This will be a Polygon\n",
    "\n",
    "### Calculate the distance between two points\n",
    "\n",
    "### Is this place in this area?\n",
    "The following methods can be used\n",
    "- `.contains()`\n",
    "- `.within()`\n",
    "- `.intersects()`\n",
    "- `.touches()`"
   ]
  },
  {
   "cell_type": "markdown",
   "metadata": {},
   "source": [
    "## GeoDataFrame\n",
    "The [GeoPandas](https://geopandas.org/en/stable/getting_started/introduction.html) package inherits from Pandas, so you get all the goodness of Pandas DataFrames with additional features for geospatial data-types operations.  \n",
    "\n",
    "Geopandas dataframes can look just like QGIS attribute tables... Where each row has a unqiue geometry and columns for each attribute.\n",
    "\n",
    "On import Geopandas will recognise geometries automatically (if there is only one), or they can be created. GeoDataFrames can store multiple geometry columns, and even different types within the same column.\n",
    "\n",
    "Geometries in geopandas are shapely objects (usually), so they have the same attributes and methods. Now we can apply spatial operations on entire tables."
   ]
  },
  {
   "cell_type": "code",
   "execution_count": null,
   "metadata": {},
   "outputs": [],
   "source": [
    "# Create a geodataframe\n",
    "\n",
    "\n",
    "# Filter by spatial relation - find the points within this polygon\n",
    "\n",
    "\n",
    "# Find the boundaries\n"
   ]
  },
  {
   "cell_type": "markdown",
   "metadata": {},
   "source": [
    "## Raster data"
   ]
  },
  {
   "cell_type": "markdown",
   "metadata": {},
   "source": [
    "rasterio"
   ]
  },
  {
   "cell_type": "code",
   "execution_count": null,
   "metadata": {},
   "outputs": [],
   "source": []
  },
  {
   "cell_type": "markdown",
   "metadata": {},
   "source": [
    "## Plotting libraries\n"
   ]
  },
  {
   "cell_type": "markdown",
   "metadata": {},
   "source": [
    "lonbord\n",
    "matplotlib"
   ]
  },
  {
   "cell_type": "markdown",
   "metadata": {},
   "source": [
    "## GeoSpatial Databases\n",
    "\n",
    "### Transactional\n",
    "- `PostGIS` - extension of PostgreSQL\n",
    "- `Spatialite` - extension of SQLite\n",
    "\n",
    "### Analytical\n",
    "- `duckdb`"
   ]
  },
  {
   "cell_type": "markdown",
   "metadata": {},
   "source": [
    "## Others\n",
    "\n",
    "- lonboard\n",
    "- plotly\n",
    "- leaflet\n",
    "- autoGIS\n",
    "- pyQGIS!"
   ]
  }
 ],
 "metadata": {
  "language_info": {
   "name": "python"
  }
 },
 "nbformat": 4,
 "nbformat_minor": 2
}
